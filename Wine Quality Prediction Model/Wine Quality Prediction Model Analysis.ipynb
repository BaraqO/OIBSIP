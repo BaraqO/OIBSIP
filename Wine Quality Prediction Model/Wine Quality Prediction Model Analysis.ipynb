{
 "cells": [
  {
   "cell_type": "markdown",
   "id": "daabffe2-0318-4ddb-b472-cf6e1d9cdd41",
   "metadata": {},
   "source": [
    "# Wine Quality Prediction Model"
   ]
  },
  {
   "cell_type": "markdown",
   "id": "fdf08c81-d258-4f8d-a91d-6805ebba344d",
   "metadata": {},
   "source": [
    "## Data Importation and Inspection"
   ]
  },
  {
   "cell_type": "code",
   "execution_count": 1,
   "id": "28275a38-b1e1-4830-917b-5aeb5dc75271",
   "metadata": {},
   "outputs": [],
   "source": [
    "import pandas as pd\n",
    "\n",
    "# Load the dataset\n",
    "wine = pd.read_csv('WineQT.csv')"
   ]
  },
  {
   "cell_type": "code",
   "execution_count": 2,
   "id": "688a8292-1cc6-404d-b9a0-f1d29b867f50",
   "metadata": {},
   "outputs": [
    {
     "data": {
      "text/html": [
       "<div>\n",
       "<style scoped>\n",
       "    .dataframe tbody tr th:only-of-type {\n",
       "        vertical-align: middle;\n",
       "    }\n",
       "\n",
       "    .dataframe tbody tr th {\n",
       "        vertical-align: top;\n",
       "    }\n",
       "\n",
       "    .dataframe thead th {\n",
       "        text-align: right;\n",
       "    }\n",
       "</style>\n",
       "<table border=\"1\" class=\"dataframe\">\n",
       "  <thead>\n",
       "    <tr style=\"text-align: right;\">\n",
       "      <th></th>\n",
       "      <th>fixed acidity</th>\n",
       "      <th>volatile acidity</th>\n",
       "      <th>citric acid</th>\n",
       "      <th>residual sugar</th>\n",
       "      <th>chlorides</th>\n",
       "      <th>free sulfur dioxide</th>\n",
       "      <th>total sulfur dioxide</th>\n",
       "      <th>density</th>\n",
       "      <th>pH</th>\n",
       "      <th>sulphates</th>\n",
       "      <th>alcohol</th>\n",
       "      <th>quality</th>\n",
       "      <th>Id</th>\n",
       "    </tr>\n",
       "  </thead>\n",
       "  <tbody>\n",
       "    <tr>\n",
       "      <th>0</th>\n",
       "      <td>7.4</td>\n",
       "      <td>0.70</td>\n",
       "      <td>0.00</td>\n",
       "      <td>1.9</td>\n",
       "      <td>0.076</td>\n",
       "      <td>11.0</td>\n",
       "      <td>34.0</td>\n",
       "      <td>0.9978</td>\n",
       "      <td>3.51</td>\n",
       "      <td>0.56</td>\n",
       "      <td>9.4</td>\n",
       "      <td>5</td>\n",
       "      <td>0</td>\n",
       "    </tr>\n",
       "    <tr>\n",
       "      <th>1</th>\n",
       "      <td>7.8</td>\n",
       "      <td>0.88</td>\n",
       "      <td>0.00</td>\n",
       "      <td>2.6</td>\n",
       "      <td>0.098</td>\n",
       "      <td>25.0</td>\n",
       "      <td>67.0</td>\n",
       "      <td>0.9968</td>\n",
       "      <td>3.20</td>\n",
       "      <td>0.68</td>\n",
       "      <td>9.8</td>\n",
       "      <td>5</td>\n",
       "      <td>1</td>\n",
       "    </tr>\n",
       "    <tr>\n",
       "      <th>2</th>\n",
       "      <td>7.8</td>\n",
       "      <td>0.76</td>\n",
       "      <td>0.04</td>\n",
       "      <td>2.3</td>\n",
       "      <td>0.092</td>\n",
       "      <td>15.0</td>\n",
       "      <td>54.0</td>\n",
       "      <td>0.9970</td>\n",
       "      <td>3.26</td>\n",
       "      <td>0.65</td>\n",
       "      <td>9.8</td>\n",
       "      <td>5</td>\n",
       "      <td>2</td>\n",
       "    </tr>\n",
       "    <tr>\n",
       "      <th>3</th>\n",
       "      <td>11.2</td>\n",
       "      <td>0.28</td>\n",
       "      <td>0.56</td>\n",
       "      <td>1.9</td>\n",
       "      <td>0.075</td>\n",
       "      <td>17.0</td>\n",
       "      <td>60.0</td>\n",
       "      <td>0.9980</td>\n",
       "      <td>3.16</td>\n",
       "      <td>0.58</td>\n",
       "      <td>9.8</td>\n",
       "      <td>6</td>\n",
       "      <td>3</td>\n",
       "    </tr>\n",
       "    <tr>\n",
       "      <th>4</th>\n",
       "      <td>7.4</td>\n",
       "      <td>0.70</td>\n",
       "      <td>0.00</td>\n",
       "      <td>1.9</td>\n",
       "      <td>0.076</td>\n",
       "      <td>11.0</td>\n",
       "      <td>34.0</td>\n",
       "      <td>0.9978</td>\n",
       "      <td>3.51</td>\n",
       "      <td>0.56</td>\n",
       "      <td>9.4</td>\n",
       "      <td>5</td>\n",
       "      <td>4</td>\n",
       "    </tr>\n",
       "  </tbody>\n",
       "</table>\n",
       "</div>"
      ],
      "text/plain": [
       "   fixed acidity  volatile acidity  citric acid  residual sugar  chlorides  \\\n",
       "0            7.4              0.70         0.00             1.9      0.076   \n",
       "1            7.8              0.88         0.00             2.6      0.098   \n",
       "2            7.8              0.76         0.04             2.3      0.092   \n",
       "3           11.2              0.28         0.56             1.9      0.075   \n",
       "4            7.4              0.70         0.00             1.9      0.076   \n",
       "\n",
       "   free sulfur dioxide  total sulfur dioxide  density    pH  sulphates  \\\n",
       "0                 11.0                  34.0   0.9978  3.51       0.56   \n",
       "1                 25.0                  67.0   0.9968  3.20       0.68   \n",
       "2                 15.0                  54.0   0.9970  3.26       0.65   \n",
       "3                 17.0                  60.0   0.9980  3.16       0.58   \n",
       "4                 11.0                  34.0   0.9978  3.51       0.56   \n",
       "\n",
       "   alcohol  quality  Id  \n",
       "0      9.4        5   0  \n",
       "1      9.8        5   1  \n",
       "2      9.8        5   2  \n",
       "3      9.8        6   3  \n",
       "4      9.4        5   4  "
      ]
     },
     "execution_count": 2,
     "metadata": {},
     "output_type": "execute_result"
    }
   ],
   "source": [
    "# Displaying basic information about the dataset\n",
    "wine.head()"
   ]
  },
  {
   "cell_type": "code",
   "execution_count": 3,
   "id": "dd56b75e-a3ea-4756-9128-af23f40380ab",
   "metadata": {},
   "outputs": [
    {
     "name": "stdout",
     "output_type": "stream",
     "text": [
      "<class 'pandas.core.frame.DataFrame'>\n",
      "RangeIndex: 1143 entries, 0 to 1142\n",
      "Data columns (total 13 columns):\n",
      " #   Column                Non-Null Count  Dtype  \n",
      "---  ------                --------------  -----  \n",
      " 0   fixed acidity         1143 non-null   float64\n",
      " 1   volatile acidity      1143 non-null   float64\n",
      " 2   citric acid           1143 non-null   float64\n",
      " 3   residual sugar        1143 non-null   float64\n",
      " 4   chlorides             1143 non-null   float64\n",
      " 5   free sulfur dioxide   1143 non-null   float64\n",
      " 6   total sulfur dioxide  1143 non-null   float64\n",
      " 7   density               1143 non-null   float64\n",
      " 8   pH                    1143 non-null   float64\n",
      " 9   sulphates             1143 non-null   float64\n",
      " 10  alcohol               1143 non-null   float64\n",
      " 11  quality               1143 non-null   int64  \n",
      " 12  Id                    1143 non-null   int64  \n",
      "dtypes: float64(11), int64(2)\n",
      "memory usage: 116.2 KB\n"
     ]
    }
   ],
   "source": [
    "wine.info()"
   ]
  },
  {
   "cell_type": "markdown",
   "id": "1b34beb3-1fd9-4dc1-a537-45ad571397b6",
   "metadata": {},
   "source": [
    "##### Structure:\n",
    "\n",
    "###### Rows: 1143\n",
    "###### Columns: 13"
   ]
  },
  {
   "cell_type": "code",
   "execution_count": 4,
   "id": "ed5e6cb8-db23-4b99-b9e1-40fd8aab8883",
   "metadata": {
    "scrolled": true
   },
   "outputs": [
    {
     "data": {
      "text/plain": [
       "fixed acidity           0\n",
       "volatile acidity        0\n",
       "citric acid             0\n",
       "residual sugar          0\n",
       "chlorides               0\n",
       "free sulfur dioxide     0\n",
       "total sulfur dioxide    0\n",
       "density                 0\n",
       "pH                      0\n",
       "sulphates               0\n",
       "alcohol                 0\n",
       "quality                 0\n",
       "Id                      0\n",
       "dtype: int64"
      ]
     },
     "execution_count": 4,
     "metadata": {},
     "output_type": "execute_result"
    }
   ],
   "source": [
    "wine.isnull().sum()"
   ]
  },
  {
   "cell_type": "markdown",
   "id": "f1722777-b5de-4fbe-a5f0-fd90853d7448",
   "metadata": {},
   "source": [
    "###### No Missing Values"
   ]
  },
  {
   "cell_type": "code",
   "execution_count": 5,
   "id": "3781fac3-d747-4ceb-8fb0-ba4fe602e269",
   "metadata": {},
   "outputs": [
    {
     "data": {
      "text/html": [
       "<div>\n",
       "<style scoped>\n",
       "    .dataframe tbody tr th:only-of-type {\n",
       "        vertical-align: middle;\n",
       "    }\n",
       "\n",
       "    .dataframe tbody tr th {\n",
       "        vertical-align: top;\n",
       "    }\n",
       "\n",
       "    .dataframe thead th {\n",
       "        text-align: right;\n",
       "    }\n",
       "</style>\n",
       "<table border=\"1\" class=\"dataframe\">\n",
       "  <thead>\n",
       "    <tr style=\"text-align: right;\">\n",
       "      <th></th>\n",
       "      <th>fixed acidity</th>\n",
       "      <th>volatile acidity</th>\n",
       "      <th>citric acid</th>\n",
       "      <th>residual sugar</th>\n",
       "      <th>chlorides</th>\n",
       "      <th>free sulfur dioxide</th>\n",
       "      <th>total sulfur dioxide</th>\n",
       "      <th>density</th>\n",
       "      <th>pH</th>\n",
       "      <th>sulphates</th>\n",
       "      <th>alcohol</th>\n",
       "      <th>quality</th>\n",
       "      <th>Id</th>\n",
       "    </tr>\n",
       "  </thead>\n",
       "  <tbody>\n",
       "    <tr>\n",
       "      <th>count</th>\n",
       "      <td>1143.000000</td>\n",
       "      <td>1143.000000</td>\n",
       "      <td>1143.000000</td>\n",
       "      <td>1143.000000</td>\n",
       "      <td>1143.000000</td>\n",
       "      <td>1143.000000</td>\n",
       "      <td>1143.000000</td>\n",
       "      <td>1143.000000</td>\n",
       "      <td>1143.000000</td>\n",
       "      <td>1143.000000</td>\n",
       "      <td>1143.000000</td>\n",
       "      <td>1143.000000</td>\n",
       "      <td>1143.000000</td>\n",
       "    </tr>\n",
       "    <tr>\n",
       "      <th>mean</th>\n",
       "      <td>8.311111</td>\n",
       "      <td>0.531339</td>\n",
       "      <td>0.268364</td>\n",
       "      <td>2.532152</td>\n",
       "      <td>0.086933</td>\n",
       "      <td>15.615486</td>\n",
       "      <td>45.914698</td>\n",
       "      <td>0.996730</td>\n",
       "      <td>3.311015</td>\n",
       "      <td>0.657708</td>\n",
       "      <td>10.442111</td>\n",
       "      <td>5.657043</td>\n",
       "      <td>804.969379</td>\n",
       "    </tr>\n",
       "    <tr>\n",
       "      <th>std</th>\n",
       "      <td>1.747595</td>\n",
       "      <td>0.179633</td>\n",
       "      <td>0.196686</td>\n",
       "      <td>1.355917</td>\n",
       "      <td>0.047267</td>\n",
       "      <td>10.250486</td>\n",
       "      <td>32.782130</td>\n",
       "      <td>0.001925</td>\n",
       "      <td>0.156664</td>\n",
       "      <td>0.170399</td>\n",
       "      <td>1.082196</td>\n",
       "      <td>0.805824</td>\n",
       "      <td>463.997116</td>\n",
       "    </tr>\n",
       "    <tr>\n",
       "      <th>min</th>\n",
       "      <td>4.600000</td>\n",
       "      <td>0.120000</td>\n",
       "      <td>0.000000</td>\n",
       "      <td>0.900000</td>\n",
       "      <td>0.012000</td>\n",
       "      <td>1.000000</td>\n",
       "      <td>6.000000</td>\n",
       "      <td>0.990070</td>\n",
       "      <td>2.740000</td>\n",
       "      <td>0.330000</td>\n",
       "      <td>8.400000</td>\n",
       "      <td>3.000000</td>\n",
       "      <td>0.000000</td>\n",
       "    </tr>\n",
       "    <tr>\n",
       "      <th>25%</th>\n",
       "      <td>7.100000</td>\n",
       "      <td>0.392500</td>\n",
       "      <td>0.090000</td>\n",
       "      <td>1.900000</td>\n",
       "      <td>0.070000</td>\n",
       "      <td>7.000000</td>\n",
       "      <td>21.000000</td>\n",
       "      <td>0.995570</td>\n",
       "      <td>3.205000</td>\n",
       "      <td>0.550000</td>\n",
       "      <td>9.500000</td>\n",
       "      <td>5.000000</td>\n",
       "      <td>411.000000</td>\n",
       "    </tr>\n",
       "    <tr>\n",
       "      <th>50%</th>\n",
       "      <td>7.900000</td>\n",
       "      <td>0.520000</td>\n",
       "      <td>0.250000</td>\n",
       "      <td>2.200000</td>\n",
       "      <td>0.079000</td>\n",
       "      <td>13.000000</td>\n",
       "      <td>37.000000</td>\n",
       "      <td>0.996680</td>\n",
       "      <td>3.310000</td>\n",
       "      <td>0.620000</td>\n",
       "      <td>10.200000</td>\n",
       "      <td>6.000000</td>\n",
       "      <td>794.000000</td>\n",
       "    </tr>\n",
       "    <tr>\n",
       "      <th>75%</th>\n",
       "      <td>9.100000</td>\n",
       "      <td>0.640000</td>\n",
       "      <td>0.420000</td>\n",
       "      <td>2.600000</td>\n",
       "      <td>0.090000</td>\n",
       "      <td>21.000000</td>\n",
       "      <td>61.000000</td>\n",
       "      <td>0.997845</td>\n",
       "      <td>3.400000</td>\n",
       "      <td>0.730000</td>\n",
       "      <td>11.100000</td>\n",
       "      <td>6.000000</td>\n",
       "      <td>1209.500000</td>\n",
       "    </tr>\n",
       "    <tr>\n",
       "      <th>max</th>\n",
       "      <td>15.900000</td>\n",
       "      <td>1.580000</td>\n",
       "      <td>1.000000</td>\n",
       "      <td>15.500000</td>\n",
       "      <td>0.611000</td>\n",
       "      <td>68.000000</td>\n",
       "      <td>289.000000</td>\n",
       "      <td>1.003690</td>\n",
       "      <td>4.010000</td>\n",
       "      <td>2.000000</td>\n",
       "      <td>14.900000</td>\n",
       "      <td>8.000000</td>\n",
       "      <td>1597.000000</td>\n",
       "    </tr>\n",
       "  </tbody>\n",
       "</table>\n",
       "</div>"
      ],
      "text/plain": [
       "       fixed acidity  volatile acidity  citric acid  residual sugar  \\\n",
       "count    1143.000000       1143.000000  1143.000000     1143.000000   \n",
       "mean        8.311111          0.531339     0.268364        2.532152   \n",
       "std         1.747595          0.179633     0.196686        1.355917   \n",
       "min         4.600000          0.120000     0.000000        0.900000   \n",
       "25%         7.100000          0.392500     0.090000        1.900000   \n",
       "50%         7.900000          0.520000     0.250000        2.200000   \n",
       "75%         9.100000          0.640000     0.420000        2.600000   \n",
       "max        15.900000          1.580000     1.000000       15.500000   \n",
       "\n",
       "         chlorides  free sulfur dioxide  total sulfur dioxide      density  \\\n",
       "count  1143.000000          1143.000000           1143.000000  1143.000000   \n",
       "mean      0.086933            15.615486             45.914698     0.996730   \n",
       "std       0.047267            10.250486             32.782130     0.001925   \n",
       "min       0.012000             1.000000              6.000000     0.990070   \n",
       "25%       0.070000             7.000000             21.000000     0.995570   \n",
       "50%       0.079000            13.000000             37.000000     0.996680   \n",
       "75%       0.090000            21.000000             61.000000     0.997845   \n",
       "max       0.611000            68.000000            289.000000     1.003690   \n",
       "\n",
       "                pH    sulphates      alcohol      quality           Id  \n",
       "count  1143.000000  1143.000000  1143.000000  1143.000000  1143.000000  \n",
       "mean      3.311015     0.657708    10.442111     5.657043   804.969379  \n",
       "std       0.156664     0.170399     1.082196     0.805824   463.997116  \n",
       "min       2.740000     0.330000     8.400000     3.000000     0.000000  \n",
       "25%       3.205000     0.550000     9.500000     5.000000   411.000000  \n",
       "50%       3.310000     0.620000    10.200000     6.000000   794.000000  \n",
       "75%       3.400000     0.730000    11.100000     6.000000  1209.500000  \n",
       "max       4.010000     2.000000    14.900000     8.000000  1597.000000  "
      ]
     },
     "execution_count": 5,
     "metadata": {},
     "output_type": "execute_result"
    }
   ],
   "source": [
    "wine.describe()"
   ]
  },
  {
   "cell_type": "markdown",
   "id": "0ff6b0eb-5de8-480e-8629-0fd33e9a6b8c",
   "metadata": {},
   "source": [
    "##### Dataset Insights:\n",
    "###### Key predictors include: fixed acidity, volatile acidity, citric acid, density, pH, sulphates, and alcohol.\n",
    "\n",
    "##### Feature Statistics:\n",
    "\n",
    "##### Features like density, pH, and alcohol seem to have a manageable range of values.\n",
    "###### quality scores range between 3 and 8.\n",
    "##### Outliers:\n",
    "\n",
    "###### chlorides and residual sugar show large deviations in maximum values, which might indicate outliers."
   ]
  },
  {
   "cell_type": "markdown",
   "id": "43d7c631-c5be-484d-9877-32223676f841",
   "metadata": {},
   "source": [
    "## Data Visualizations"
   ]
  },
  {
   "cell_type": "code",
   "execution_count": 6,
   "id": "4ffe0b42-2347-4cc1-8525-cf5dd4e13caf",
   "metadata": {},
   "outputs": [],
   "source": [
    "import seaborn as sns\n",
    "import matplotlib.pyplot as plt\n",
    "\n",
    "# Drop the 'Id' column as it is irrelevant for predictions\n",
    "wine = wine.drop(columns=['Id'])"
   ]
  },
  {
   "cell_type": "code",
   "execution_count": 7,
   "id": "4c00706c-d6ee-4f32-821f-743e66c7b8d4",
   "metadata": {
    "scrolled": true
   },
   "outputs": [
    {
     "data": {
      "image/png": "[encoded data removed]",
      "text/plain": [
       "<Figure size 800x600 with 1 Axes>"
      ]
     },
     "metadata": {},
     "output_type": "display_data"
    }
   ],
   "source": [
    "# Visualizing the distribution of wine quality\n",
    "plt.figure(figsize=(8, 6))\n",
    "sns.countplot(x='quality', data=wine, palette='viridis')\n",
    "plt.title('Distribution of Wine Quality')\n",
    "plt.xlabel('Quality')\n",
    "plt.ylabel('Count')\n",
    "plt.show()"
   ]
  },
  {
   "cell_type": "markdown",
   "id": "6230e31c-afe9-455f-9351-cc3bd322c1cb",
   "metadata": {},
   "source": [
    "##### The quality scores are primarily concentrated between 5 and 6, with fewer examples at the extremes (3 and 8)."
   ]
  },
  {
   "cell_type": "code",
   "execution_count": 8,
   "id": "6ea62e68-493a-4fe6-a091-949d707fe9d0",
   "metadata": {},
   "outputs": [
    {
     "data": {
      "image/png": "[encoded data removed]",
      "text/plain": [
       "<Figure size 1200x600 with 2 Axes>"
      ]
     },
     "metadata": {},
     "output_type": "display_data"
    }
   ],
   "source": [
    "# Exploring relationships with density and pH\n",
    "plt.figure(figsize=(12, 6))\n",
    "\n",
    "# Density vs Quality\n",
    "plt.subplot(1, 2, 1)\n",
    "sns.boxplot(x='quality', y='density', data=wine, palette='coolwarm')\n",
    "plt.title('Density vs Wine Quality')\n",
    "\n",
    "# pH vs Quality\n",
    "plt.subplot(1, 2, 2)\n",
    "sns.boxplot(x='quality', y='pH', data=wine, palette='coolwarm')\n",
    "plt.title('pH vs Wine Quality')\n",
    "\n",
    "plt.tight_layout()\n",
    "plt.show()"
   ]
  },
  {
   "cell_type": "markdown",
   "id": "b5d1629a-9c45-4642-90ad-47c64ab8bb54",
   "metadata": {},
   "source": [
    "#### Density and Quality:\n",
    "\n",
    "##### Density shows a relatively consistent distribution across quality levels, with minor variations suggesting it might provide moderate predictive power.\n",
    "#### pH and Quality:\n",
    "\n",
    "##### pH appears relatively uniform across quality scores but shows slight clustering for middle-quality wines (5 and 6)."
   ]
  },
  {
   "cell_type": "code",
   "execution_count": null,
   "id": "cb36ac10-80fe-4970-92bb-52315ddecf32",
   "metadata": {},
   "outputs": [],
   "source": []
  },
  {
   "cell_type": "markdown",
   "id": "ccfef67c-737d-44df-bfb0-49c902a3ce0c",
   "metadata": {},
   "source": [
    "## Correlation matrix"
   ]
  },
  {
   "cell_type": "code",
   "execution_count": 9,
   "id": "5369e0c6-104b-4c71-b152-42a11ca06036",
   "metadata": {},
   "outputs": [],
   "source": [
    "# Compute the correlation matrix\n",
    "correlation_matrix = wine.corr()"
   ]
  },
  {
   "cell_type": "code",
   "execution_count": 10,
   "id": "6f6decbf-988a-4c63-a872-250f8ec8c830",
   "metadata": {
    "scrolled": true
   },
   "outputs": [
    {
     "data": {
      "image/png": "[encoded data removed]",
      "text/plain": [
       "<Figure size 1200x800 with 2 Axes>"
      ]
     },
     "metadata": {},
     "output_type": "display_data"
    }
   ],
   "source": [
    "# Visualize the correlation matrix\n",
    "plt.figure(figsize=(12, 8))\n",
    "sns.heatmap(correlation_matrix, annot=True, cmap='coolwarm', fmt='.2f', linewidths=0.5, cbar=True)\n",
    "plt.title('Correlation Matrix')\n",
    "plt.show()"
   ]
  },
  {
   "cell_type": "code",
   "execution_count": 11,
   "id": "f4d9d97e-a688-4cee-8b8f-627c5e5d1587",
   "metadata": {},
   "outputs": [
    {
     "data": {
      "text/plain": [
       "quality                 1.000000\n",
       "alcohol                 0.484866\n",
       "sulphates               0.257710\n",
       "citric acid             0.240821\n",
       "fixed acidity           0.121970\n",
       "residual sugar          0.022002\n",
       "pH                     -0.052453\n",
       "free sulfur dioxide    -0.063260\n",
       "chlorides              -0.124085\n",
       "density                -0.175208\n",
       "total sulfur dioxide   -0.183339\n",
       "volatile acidity       -0.407394\n",
       "Name: quality, dtype: float64"
      ]
     },
     "execution_count": 11,
     "metadata": {},
     "output_type": "execute_result"
    }
   ],
   "source": [
    "# Highlight the correlations of features with quality\n",
    "quality_correlation = correlation_matrix['quality'].sort_values(ascending=False)\n",
    "quality_correlation"
   ]
  },
  {
   "cell_type": "markdown",
   "id": "d7680453-4a75-4417-b4b1-677397a2e82f",
   "metadata": {},
   "source": [
    "#### Strongest Positive Correlations:\n",
    "\n",
    "##### alcohol (0.48): Most positively correlated with wine quality, making it a key predictor.\n",
    "##### sulphates (0.26) and citric acid (0.24) also show moderate positive correlations.\n",
    "#### Negative Correlations:\n",
    "\n",
    "##### volatile acidity (−0.41) and density (−0.18) have significant negative correlations with quality, indicating their importance in the opposite direction.\n",
    "#### Weak Correlations:\n",
    "\n",
    "##### Features like residual sugar and pH have near-zero correlations, indicating limited predictive power for quality."
   ]
  },
  {
   "cell_type": "code",
   "execution_count": null,
   "id": "8a71bb0d-2e30-4a8b-9ea7-6ea593be1287",
   "metadata": {},
   "outputs": [],
   "source": []
  },
  {
   "cell_type": "markdown",
   "id": "e9740477-fe7f-4af4-a7b4-edb88e339603",
   "metadata": {},
   "source": [
    "## Feature Selection"
   ]
  },
  {
   "cell_type": "code",
   "execution_count": 12,
   "id": "afc340ed-af8b-4929-ab31-964246d02e94",
   "metadata": {},
   "outputs": [
    {
     "data": {
      "text/plain": [
       "{'Training Set Size': (914, 8), 'Test Set Size': (229, 8)}"
      ]
     },
     "execution_count": 12,
     "metadata": {},
     "output_type": "execute_result"
    }
   ],
   "source": [
    "from sklearn.model_selection import train_test_split\n",
    "from sklearn.preprocessing import StandardScaler\n",
    "\n",
    "# Select features with notable correlation to quality (threshold > |0.1|)\n",
    "features = ['alcohol', 'sulphates', 'citric acid', 'fixed acidity', \n",
    "            'volatile acidity', 'density', 'chlorides', 'total sulfur dioxide']\n",
    "\n",
    "X = wine[features]\n",
    "y = wine['quality']\n",
    "\n",
    "# Standardize the features\n",
    "scaler = StandardScaler()\n",
    "X_scaled = scaler.fit_transform(X)\n",
    "\n",
    "# Split into training and test sets\n",
    "X_train, X_test, y_train, y_test = train_test_split(X_scaled, y, test_size=0.2, random_state=42, stratify=y)\n",
    "\n",
    "# Confirm split sizes\n",
    "split_sizes = {\n",
    "    \"Training Set Size\": X_train.shape,\n",
    "    \"Test Set Size\": X_test.shape,\n",
    "}\n",
    "split_sizes"
   ]
  },
  {
   "cell_type": "markdown",
   "id": "d3d6a1f0-565a-4d60-9192-dc5e5d6098f9",
   "metadata": {},
   "source": [
    "##### The dataset has been successfully split:\n",
    "\n",
    "##### - Training set: 914 samples (80% of the data).\n",
    "##### - Test set: 229 samples (20% of the data).\n",
    "##### - Features selected: alcohol, sulphates, citric acid, volatile acidity, fixed acidity, chlorides, total sulfur dioxide, and density."
   ]
  },
  {
   "cell_type": "code",
   "execution_count": null,
   "id": "552c4172-3ee5-4820-8e16-7e4305f3ea2a",
   "metadata": {},
   "outputs": [],
   "source": []
  },
  {
   "cell_type": "code",
   "execution_count": 13,
   "id": "0686773c-9d4b-4cee-850a-8b072586f77c",
   "metadata": {},
   "outputs": [],
   "source": [
    "from sklearn.ensemble import RandomForestClassifier\n",
    "from sklearn.linear_model import SGDClassifier\n",
    "from sklearn.svm import SVC\n",
    "from sklearn.metrics import classification_report, accuracy_score\n",
    "\n",
    "# Initializing the models\n",
    "rf_model = RandomForestClassifier(random_state=42)\n",
    "sgd_model = SGDClassifier(random_state=42)\n",
    "svc_model = SVC(random_state=42)\n",
    "\n",
    "# Training the models\n",
    "rf_model.fit(X_train, y_train)\n",
    "sgd_model.fit(X_train, y_train)\n",
    "svc_model.fit(X_train, y_train)\n",
    "\n",
    "# Make predictions on the test set\n",
    "rf_predictions = rf_model.predict(X_test)\n",
    "sgd_predictions = sgd_model.predict(X_test)\n",
    "svc_predictions = svc_model.predict(X_test)\n",
    "\n",
    "# Evaluate performance\n",
    "rf_accuracy = accuracy_score(y_test, rf_predictions)\n",
    "sgd_accuracy = accuracy_score(y_test, sgd_predictions)\n",
    "svc_accuracy = accuracy_score(y_test, svc_predictions)\n",
    "\n",
    "rf_report = classification_report(y_test, rf_predictions, zero_division=0)\n",
    "sgd_report = classification_report(y_test, sgd_predictions, zero_division=0)\n",
    "svc_report = classification_report(y_test, svc_predictions, zero_division=0)\n"
   ]
  },
  {
   "cell_type": "code",
   "execution_count": 14,
   "id": "d96e1014-c67d-45cb-8879-31dc925d604a",
   "metadata": {},
   "outputs": [
    {
     "data": {
      "text/plain": [
       "0.6943231441048034"
      ]
     },
     "execution_count": 14,
     "metadata": {},
     "output_type": "execute_result"
    }
   ],
   "source": [
    "rf_accuracy"
   ]
  },
  {
   "cell_type": "markdown",
   "id": "69900b8a-68d3-4ef6-b74d-8e445fc2d0c6",
   "metadata": {},
   "source": [
    "##### The Random Forest Classifier has an accuracy score of 69.4%"
   ]
  },
  {
   "cell_type": "code",
   "execution_count": 15,
   "id": "75e92127-24c7-45e1-9483-c0575c56e0fd",
   "metadata": {},
   "outputs": [
    {
     "data": {
      "text/plain": [
       "0.5764192139737991"
      ]
     },
     "execution_count": 15,
     "metadata": {},
     "output_type": "execute_result"
    }
   ],
   "source": [
    "sgd_accuracy"
   ]
  },
  {
   "cell_type": "markdown",
   "id": "e2c23a0b-796e-4efd-bf3b-4f3d01a419ff",
   "metadata": {},
   "source": [
    "##### The Stochastic Gradient Descent Classifier has an accuracy score of 57.6%"
   ]
  },
  {
   "cell_type": "code",
   "execution_count": 16,
   "id": "f303e7cb-87b2-44c9-a09d-e3e3bebce653",
   "metadata": {},
   "outputs": [
    {
     "data": {
      "text/plain": [
       "0.6593886462882096"
      ]
     },
     "execution_count": 16,
     "metadata": {},
     "output_type": "execute_result"
    }
   ],
   "source": [
    "svc_accuracy"
   ]
  },
  {
   "cell_type": "markdown",
   "id": "955cbd71-871e-4153-b576-5b209104a797",
   "metadata": {},
   "source": [
    "##### The Support Vector Classifier (SVC) has an accuracy score of 65.9%"
   ]
  },
  {
   "cell_type": "code",
   "execution_count": 17,
   "id": "630072c7-ae31-43fa-a97c-64313fc9ec12",
   "metadata": {},
   "outputs": [
    {
     "data": {
      "text/plain": [
       "'              precision    recall  f1-score   support\\n\\n           3       0.00      0.00      0.00         1\\n           4       0.00      0.00      0.00         7\\n           5       0.74      0.82      0.78        97\\n           6       0.66      0.71      0.68        92\\n           7       0.64      0.48      0.55        29\\n           8       0.00      0.00      0.00         3\\n\\n    accuracy                           0.69       229\\n   macro avg       0.34      0.34      0.34       229\\nweighted avg       0.66      0.69      0.67       229\\n'"
      ]
     },
     "execution_count": 17,
     "metadata": {},
     "output_type": "execute_result"
    }
   ],
   "source": [
    "rf_report"
   ]
  },
  {
   "cell_type": "code",
   "execution_count": 18,
   "id": "75f34ebe-3a0e-4447-9e98-a6e36e2da149",
   "metadata": {},
   "outputs": [
    {
     "data": {
      "text/plain": [
       "'              precision    recall  f1-score   support\\n\\n           3       0.00      0.00      0.00         1\\n           4       0.00      0.00      0.00         7\\n           5       0.63      0.77      0.69        97\\n           6       0.54      0.60      0.57        92\\n           7       0.17      0.03      0.06        29\\n           8       0.50      0.33      0.40         3\\n\\n    accuracy                           0.58       229\\n   macro avg       0.31      0.29      0.29       229\\nweighted avg       0.51      0.58      0.53       229\\n'"
      ]
     },
     "execution_count": 18,
     "metadata": {},
     "output_type": "execute_result"
    }
   ],
   "source": [
    "sgd_report"
   ]
  },
  {
   "cell_type": "code",
   "execution_count": 19,
   "id": "1188e63c-564e-4c86-bfe0-3c7e531f7db3",
   "metadata": {},
   "outputs": [
    {
     "data": {
      "text/plain": [
       "'              precision    recall  f1-score   support\\n\\n           3       0.00      0.00      0.00         1\\n           4       0.00      0.00      0.00         7\\n           5       0.71      0.82      0.76        97\\n           6       0.62      0.68      0.65        92\\n           7       0.57      0.28      0.37        29\\n           8       0.00      0.00      0.00         3\\n\\n    accuracy                           0.66       229\\n   macro avg       0.32      0.30      0.30       229\\nweighted avg       0.62      0.66      0.63       229\\n'"
      ]
     },
     "execution_count": 19,
     "metadata": {},
     "output_type": "execute_result"
    }
   ],
   "source": [
    "svc_report"
   ]
  },
  {
   "cell_type": "code",
   "execution_count": null,
   "id": "d38ae408-518d-4f86-8178-2ea7e88ddf11",
   "metadata": {},
   "outputs": [],
   "source": []
  }
 ],
 "metadata": {
  "kernelspec": {
   "display_name": "Python 3 (ipykernel)",
   "language": "python",
   "name": "python3"
  },
  "language_info": {
   "codemirror_mode": {
    "name": "ipython",
    "version": 3
   },
   "file_extension": ".py",
   "mimetype": "text/x-python",
   "name": "python",
   "nbconvert_exporter": "python",
   "pygments_lexer": "ipython3",
   "version": "3.11.7"
  }
 },
 "nbformat": 4,
 "nbformat_minor": 5
}
