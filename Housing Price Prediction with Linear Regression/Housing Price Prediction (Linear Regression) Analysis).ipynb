{
 "cells": [
  {
   "cell_type": "markdown",
   "id": "36cd5641-dd22-4c9f-818f-7764179c0477",
   "metadata": {},
   "source": [
    "# Housing Price Prediction"
   ]
  },
  {
   "cell_type": "code",
   "execution_count": 1,
   "id": "b51c4e32-8638-48a3-a0c1-f031e13d4935",
   "metadata": {},
   "outputs": [],
   "source": [
    "import pandas as pd\n",
    "\n",
    "# Loading the dataset\n",
    "file_path = 'Housing.csv'\n",
    "housing_data = pd.read_csv(file_path)"
   ]
  },
  {
   "cell_type": "markdown",
   "id": "f9f2c213-1062-4304-9221-63afec7a4b80",
   "metadata": {},
   "source": [
    "## Data Inspection & Cleaning"
   ]
  },
  {
   "cell_type": "code",
   "execution_count": 2,
   "id": "c2bbedb3-e9b7-47cb-bdaf-0f8346c300e5",
   "metadata": {
    "scrolled": true
   },
   "outputs": [
    {
     "name": "stdout",
     "output_type": "stream",
     "text": [
      "<class 'pandas.core.frame.DataFrame'>\n",
      "RangeIndex: 545 entries, 0 to 544\n",
      "Data columns (total 13 columns):\n",
      " #   Column            Non-Null Count  Dtype \n",
      "---  ------            --------------  ----- \n",
      " 0   price             545 non-null    int64 \n",
      " 1   area              545 non-null    int64 \n",
      " 2   bedrooms          545 non-null    int64 \n",
      " 3   bathrooms         545 non-null    int64 \n",
      " 4   stories           545 non-null    int64 \n",
      " 5   mainroad          545 non-null    object\n",
      " 6   guestroom         545 non-null    object\n",
      " 7   basement          545 non-null    object\n",
      " 8   hotwaterheating   545 non-null    object\n",
      " 9   airconditioning   545 non-null    object\n",
      " 10  parking           545 non-null    int64 \n",
      " 11  prefarea          545 non-null    object\n",
      " 12  furnishingstatus  545 non-null    object\n",
      "dtypes: int64(6), object(7)\n",
      "memory usage: 55.5+ KB\n"
     ]
    }
   ],
   "source": [
    "# Display basic information about the dataset\n",
    "housing_data.info() "
   ]
  },
  {
   "cell_type": "markdown",
   "id": "9e253374-2487-4755-b7bb-100b37679cb4",
   "metadata": {},
   "source": [
    "##### The data has 13 columns and 545 rows of values"
   ]
  },
  {
   "cell_type": "code",
   "execution_count": 3,
   "id": "14116945-0506-4326-a79a-3a0dc57dfd5c",
   "metadata": {},
   "outputs": [
    {
     "data": {
      "text/html": [
       "<div>\n",
       "<style scoped>\n",
       "    .dataframe tbody tr th:only-of-type {\n",
       "        vertical-align: middle;\n",
       "    }\n",
       "\n",
       "    .dataframe tbody tr th {\n",
       "        vertical-align: top;\n",
       "    }\n",
       "\n",
       "    .dataframe thead th {\n",
       "        text-align: right;\n",
       "    }\n",
       "</style>\n",
       "<table border=\"1\" class=\"dataframe\">\n",
       "  <thead>\n",
       "    <tr style=\"text-align: right;\">\n",
       "      <th></th>\n",
       "      <th>price</th>\n",
       "      <th>area</th>\n",
       "      <th>bedrooms</th>\n",
       "      <th>bathrooms</th>\n",
       "      <th>stories</th>\n",
       "      <th>mainroad</th>\n",
       "      <th>guestroom</th>\n",
       "      <th>basement</th>\n",
       "      <th>hotwaterheating</th>\n",
       "      <th>airconditioning</th>\n",
       "      <th>parking</th>\n",
       "      <th>prefarea</th>\n",
       "      <th>furnishingstatus</th>\n",
       "    </tr>\n",
       "  </thead>\n",
       "  <tbody>\n",
       "    <tr>\n",
       "      <th>0</th>\n",
       "      <td>13300000</td>\n",
       "      <td>7420</td>\n",
       "      <td>4</td>\n",
       "      <td>2</td>\n",
       "      <td>3</td>\n",
       "      <td>yes</td>\n",
       "      <td>no</td>\n",
       "      <td>no</td>\n",
       "      <td>no</td>\n",
       "      <td>yes</td>\n",
       "      <td>2</td>\n",
       "      <td>yes</td>\n",
       "      <td>furnished</td>\n",
       "    </tr>\n",
       "    <tr>\n",
       "      <th>1</th>\n",
       "      <td>12250000</td>\n",
       "      <td>8960</td>\n",
       "      <td>4</td>\n",
       "      <td>4</td>\n",
       "      <td>4</td>\n",
       "      <td>yes</td>\n",
       "      <td>no</td>\n",
       "      <td>no</td>\n",
       "      <td>no</td>\n",
       "      <td>yes</td>\n",
       "      <td>3</td>\n",
       "      <td>no</td>\n",
       "      <td>furnished</td>\n",
       "    </tr>\n",
       "    <tr>\n",
       "      <th>2</th>\n",
       "      <td>12250000</td>\n",
       "      <td>9960</td>\n",
       "      <td>3</td>\n",
       "      <td>2</td>\n",
       "      <td>2</td>\n",
       "      <td>yes</td>\n",
       "      <td>no</td>\n",
       "      <td>yes</td>\n",
       "      <td>no</td>\n",
       "      <td>no</td>\n",
       "      <td>2</td>\n",
       "      <td>yes</td>\n",
       "      <td>semi-furnished</td>\n",
       "    </tr>\n",
       "    <tr>\n",
       "      <th>3</th>\n",
       "      <td>12215000</td>\n",
       "      <td>7500</td>\n",
       "      <td>4</td>\n",
       "      <td>2</td>\n",
       "      <td>2</td>\n",
       "      <td>yes</td>\n",
       "      <td>no</td>\n",
       "      <td>yes</td>\n",
       "      <td>no</td>\n",
       "      <td>yes</td>\n",
       "      <td>3</td>\n",
       "      <td>yes</td>\n",
       "      <td>furnished</td>\n",
       "    </tr>\n",
       "    <tr>\n",
       "      <th>4</th>\n",
       "      <td>11410000</td>\n",
       "      <td>7420</td>\n",
       "      <td>4</td>\n",
       "      <td>1</td>\n",
       "      <td>2</td>\n",
       "      <td>yes</td>\n",
       "      <td>yes</td>\n",
       "      <td>yes</td>\n",
       "      <td>no</td>\n",
       "      <td>yes</td>\n",
       "      <td>2</td>\n",
       "      <td>no</td>\n",
       "      <td>furnished</td>\n",
       "    </tr>\n",
       "  </tbody>\n",
       "</table>\n",
       "</div>"
      ],
      "text/plain": [
       "      price  area  bedrooms  bathrooms  stories mainroad guestroom basement  \\\n",
       "0  13300000  7420         4          2        3      yes        no       no   \n",
       "1  12250000  8960         4          4        4      yes        no       no   \n",
       "2  12250000  9960         3          2        2      yes        no      yes   \n",
       "3  12215000  7500         4          2        2      yes        no      yes   \n",
       "4  11410000  7420         4          1        2      yes       yes      yes   \n",
       "\n",
       "  hotwaterheating airconditioning  parking prefarea furnishingstatus  \n",
       "0              no             yes        2      yes        furnished  \n",
       "1              no             yes        3       no        furnished  \n",
       "2              no              no        2      yes   semi-furnished  \n",
       "3              no             yes        3      yes        furnished  \n",
       "4              no             yes        2       no        furnished  "
      ]
     },
     "execution_count": 3,
     "metadata": {},
     "output_type": "execute_result"
    }
   ],
   "source": [
    "housing_data.head()"
   ]
  },
  {
   "cell_type": "code",
   "execution_count": 4,
   "id": "e30eb251-5fcc-4b31-a388-c4da47ed12a3",
   "metadata": {},
   "outputs": [
    {
     "data": {
      "text/html": [
       "<div>\n",
       "<style scoped>\n",
       "    .dataframe tbody tr th:only-of-type {\n",
       "        vertical-align: middle;\n",
       "    }\n",
       "\n",
       "    .dataframe tbody tr th {\n",
       "        vertical-align: top;\n",
       "    }\n",
       "\n",
       "    .dataframe thead th {\n",
       "        text-align: right;\n",
       "    }\n",
       "</style>\n",
       "<table border=\"1\" class=\"dataframe\">\n",
       "  <thead>\n",
       "    <tr style=\"text-align: right;\">\n",
       "      <th></th>\n",
       "      <th>price</th>\n",
       "      <th>area</th>\n",
       "      <th>bedrooms</th>\n",
       "      <th>bathrooms</th>\n",
       "      <th>stories</th>\n",
       "      <th>mainroad</th>\n",
       "      <th>guestroom</th>\n",
       "      <th>basement</th>\n",
       "      <th>hotwaterheating</th>\n",
       "      <th>airconditioning</th>\n",
       "      <th>parking</th>\n",
       "      <th>prefarea</th>\n",
       "      <th>furnishingstatus</th>\n",
       "    </tr>\n",
       "  </thead>\n",
       "  <tbody>\n",
       "    <tr>\n",
       "      <th>543</th>\n",
       "      <td>1750000</td>\n",
       "      <td>2910</td>\n",
       "      <td>3</td>\n",
       "      <td>1</td>\n",
       "      <td>1</td>\n",
       "      <td>no</td>\n",
       "      <td>no</td>\n",
       "      <td>no</td>\n",
       "      <td>no</td>\n",
       "      <td>no</td>\n",
       "      <td>0</td>\n",
       "      <td>no</td>\n",
       "      <td>furnished</td>\n",
       "    </tr>\n",
       "    <tr>\n",
       "      <th>544</th>\n",
       "      <td>1750000</td>\n",
       "      <td>3850</td>\n",
       "      <td>3</td>\n",
       "      <td>1</td>\n",
       "      <td>2</td>\n",
       "      <td>yes</td>\n",
       "      <td>no</td>\n",
       "      <td>no</td>\n",
       "      <td>no</td>\n",
       "      <td>no</td>\n",
       "      <td>0</td>\n",
       "      <td>no</td>\n",
       "      <td>unfurnished</td>\n",
       "    </tr>\n",
       "  </tbody>\n",
       "</table>\n",
       "</div>"
      ],
      "text/plain": [
       "       price  area  bedrooms  bathrooms  stories mainroad guestroom basement  \\\n",
       "543  1750000  2910         3          1        1       no        no       no   \n",
       "544  1750000  3850         3          1        2      yes        no       no   \n",
       "\n",
       "    hotwaterheating airconditioning  parking prefarea furnishingstatus  \n",
       "543              no              no        0       no        furnished  \n",
       "544              no              no        0       no      unfurnished  "
      ]
     },
     "execution_count": 4,
     "metadata": {},
     "output_type": "execute_result"
    }
   ],
   "source": [
    "housing_data.tail(2)"
   ]
  },
  {
   "cell_type": "code",
   "execution_count": 5,
   "id": "cb79e635-4f46-4f35-bb84-7f9d7bfcc72f",
   "metadata": {},
   "outputs": [],
   "source": [
    "# Check for missing values or inconsistencies\n",
    "missing_values = housing_data.isnull().sum()"
   ]
  },
  {
   "cell_type": "code",
   "execution_count": 6,
   "id": "5d67ba2c-330e-42f2-8379-f4f3f97788c6",
   "metadata": {},
   "outputs": [],
   "source": [
    "# Convert categorical variables to numerical using one-hot encoding\n",
    "categorical_columns = ['mainroad', 'guestroom', 'basement', 'hotwaterheating', \n",
    "                       'airconditioning', 'prefarea', 'furnishingstatus']\n",
    "housing_data_encoded = pd.get_dummies(housing_data, columns=categorical_columns, drop_first=True)"
   ]
  },
  {
   "cell_type": "code",
   "execution_count": 7,
   "id": "af405bc5-71e9-44dc-aa1e-a1e4d6a474db",
   "metadata": {
    "scrolled": true
   },
   "outputs": [
    {
     "data": {
      "text/plain": [
       "(price               0\n",
       " area                0\n",
       " bedrooms            0\n",
       " bathrooms           0\n",
       " stories             0\n",
       " mainroad            0\n",
       " guestroom           0\n",
       " basement            0\n",
       " hotwaterheating     0\n",
       " airconditioning     0\n",
       " parking             0\n",
       " prefarea            0\n",
       " furnishingstatus    0\n",
       " dtype: int64,\n",
       "       price  area  bedrooms  bathrooms  stories  parking  mainroad_yes  \\\n",
       " 0  13300000  7420         4          2        3        2          True   \n",
       " 1  12250000  8960         4          4        4        3          True   \n",
       " 2  12250000  9960         3          2        2        2          True   \n",
       " 3  12215000  7500         4          2        2        3          True   \n",
       " 4  11410000  7420         4          1        2        2          True   \n",
       " \n",
       "    guestroom_yes  basement_yes  hotwaterheating_yes  airconditioning_yes  \\\n",
       " 0          False         False                False                 True   \n",
       " 1          False         False                False                 True   \n",
       " 2          False          True                False                False   \n",
       " 3          False          True                False                 True   \n",
       " 4           True          True                False                 True   \n",
       " \n",
       "    prefarea_yes  furnishingstatus_semi-furnished  furnishingstatus_unfurnished  \n",
       " 0          True                            False                         False  \n",
       " 1         False                            False                         False  \n",
       " 2          True                             True                         False  \n",
       " 3          True                            False                         False  \n",
       " 4         False                            False                         False  )"
      ]
     },
     "execution_count": 7,
     "metadata": {},
     "output_type": "execute_result"
    }
   ],
   "source": [
    "# Displaying summary of missing values and the transformed dataset structure\n",
    "missing_values, housing_data_encoded.head()"
   ]
  },
  {
   "cell_type": "markdown",
   "id": "05d44ff4-c610-4f06-a82b-5d5c4522a310",
   "metadata": {},
   "source": [
    "##### No missing data.\n",
    "##### Categorical variables have been converted into numerical format using one-hot encoding. For example:\n",
    "##### - mainroad_yes indicates if the house is on the main road.\n",
    "##### - furnishingstatus_semi-furnished and furnishingstatus_unfurnished are additional flags for furnishing status."
   ]
  },
  {
   "cell_type": "markdown",
   "id": "ad461a2a-79db-4f28-a0c7-25df00346922",
   "metadata": {},
   "source": [
    "## Feature Selection"
   ]
  },
  {
   "cell_type": "code",
   "execution_count": 8,
   "id": "4964047a-65ab-482a-aeb3-320266024c26",
   "metadata": {},
   "outputs": [
    {
     "data": {
      "image/png": "[encoded data removed]",
      "text/plain": [
       "<Figure size 1000x600 with 1 Axes>"
      ]
     },
     "metadata": {},
     "output_type": "display_data"
    },
    {
     "data": {
      "text/plain": [
       "price                              1.000000\n",
       "area                               0.535997\n",
       "bathrooms                          0.517545\n",
       "airconditioning_yes                0.452954\n",
       "stories                            0.420712\n",
       "parking                            0.384394\n",
       "bedrooms                           0.366494\n",
       "prefarea_yes                       0.329777\n",
       "mainroad_yes                       0.296898\n",
       "guestroom_yes                      0.255517\n",
       "basement_yes                       0.187057\n",
       "hotwaterheating_yes                0.093073\n",
       "furnishingstatus_semi-furnished    0.063656\n",
       "furnishingstatus_unfurnished      -0.280587\n",
       "Name: price, dtype: float64"
      ]
     },
     "execution_count": 8,
     "metadata": {},
     "output_type": "execute_result"
    }
   ],
   "source": [
    "import seaborn as sns\n",
    "import matplotlib.pyplot as plt\n",
    "\n",
    "# Computing the correlation matrix\n",
    "correlation_matrix = housing_data_encoded.corr()\n",
    "\n",
    "# Extracting correlations with the target variable 'price'\n",
    "price_correlations = correlation_matrix['price'].sort_values(ascending=False)\n",
    "\n",
    "# Visualizing the correlation of features with price\n",
    "plt.figure(figsize=(10, 6))\n",
    "sns.barplot(x=price_correlations.index, y=price_correlations.values)\n",
    "plt.xticks(rotation=90)\n",
    "plt.title('Correlation of Features with Price')\n",
    "plt.ylabel('Correlation Coefficient')\n",
    "plt.show()\n",
    "\n",
    "price_correlations"
   ]
  },
  {
   "cell_type": "markdown",
   "id": "890a881f-4ae2-410d-a41a-6a23b06872a3",
   "metadata": {},
   "source": [
    "##### Feature Selection Insights\n",
    "###### The features most strongly correlated with price are:\n",
    "\n",
    "###### - area (0.54): Indicates property size; the strongest predictor of price.\n",
    "###### - bathrooms (0.52): More bathrooms tend to increase price.\n",
    "###### - airconditioning_yes (0.45): Air-conditioned houses are pricier.\n",
    "###### - stories (0.42): More stories correlate positively with price.\n",
    "###### - parking (0.38): Parking availability adds value.\n",
    "###### - bedrooms (0.37): More bedrooms correlate with higher prices.\n",
    "###### - prefarea_yes (0.33): Preferred areas increase price.\n",
    "###### Features with weaker or negative correlation (e.g., furnishingstatus_unfurnished) may have less predictive power but could still provide context.\n",
    "###### I Will then include all strongly correlated features and evaluate their impact during model training."
   ]
  },
  {
   "cell_type": "code",
   "execution_count": null,
   "id": "d90dc376-2f1e-422b-bcdf-ca2a3743fbed",
   "metadata": {},
   "outputs": [],
   "source": []
  },
  {
   "cell_type": "markdown",
   "id": "f7772531-09e9-4236-bbf7-07cc6132031d",
   "metadata": {},
   "source": [
    "## Train-Test Split"
   ]
  },
  {
   "cell_type": "code",
   "execution_count": 9,
   "id": "56fcfcda-e575-4553-a8fc-3711a72ab1ca",
   "metadata": {},
   "outputs": [],
   "source": [
    "from sklearn.model_selection import train_test_split\n",
    "from sklearn.linear_model import LinearRegression\n",
    "from sklearn.metrics import mean_squared_error, r2_score\n",
    "\n",
    "# Select relevant features for the model\n",
    "features = ['area', 'bathrooms', 'airconditioning_yes', 'stories', 'parking', 'bedrooms', 'prefarea_yes']\n",
    "X = housing_data_encoded[features]\n",
    "y = housing_data_encoded['price']\n",
    "\n",
    "# Split the dataset into training and testing sets\n",
    "X_train, X_test, y_train, y_test = train_test_split(X, y, test_size=0.2, random_state=42)"
   ]
  },
  {
   "cell_type": "markdown",
   "id": "5a147cfe-aab5-4837-902a-64ae5fb40315",
   "metadata": {},
   "source": [
    "### Linear Regression Model Training"
   ]
  },
  {
   "cell_type": "code",
   "execution_count": 10,
   "id": "43b37d9f-1937-4792-9524-d5d944a3e03d",
   "metadata": {},
   "outputs": [
    {
     "name": "stdout",
     "output_type": "stream",
     "text": [
      "Mean Squared Error: 1955050222747.25\n",
      "R-squared: 0.6132113854476029\n"
     ]
    }
   ],
   "source": [
    "# Train the linear regression model\n",
    "model = LinearRegression()\n",
    "model.fit(X_train, y_train)\n",
    "\n",
    "# Make predictions on the test set\n",
    "y_pred = model.predict(X_test)\n",
    "\n",
    "# Evaluate model performance\n",
    "mse = mean_squared_error(y_test, y_pred)\n",
    "r2 = r2_score(y_test, y_pred)\n",
    "\n",
    "print(f\"Mean Squared Error: {mse}\")\n",
    "print(f\"R-squared: {r2}\")"
   ]
  },
  {
   "cell_type": "markdown",
   "id": "a1a800b4-65c9-4d1e-b4c9-8c58500ac5c7",
   "metadata": {},
   "source": [
    "##### RMSE (RMSE= square root of MSE) is in the same units as the target variable suggesting better performance and close predictions.\n",
    "##### The R² is closer to 1 than 0 meaning the model captures the relationships well."
   ]
  },
  {
   "cell_type": "code",
   "execution_count": null,
   "id": "bf209d53-4b5b-42cb-8f06-ca2a3b1a42f5",
   "metadata": {},
   "outputs": [],
   "source": []
  },
  {
   "cell_type": "markdown",
   "id": "fefc948e-c0f5-439e-aa05-65e110989d8d",
   "metadata": {},
   "source": [
    "## Visualization of Predictions vs. Actual Values"
   ]
  },
  {
   "cell_type": "code",
   "execution_count": 11,
   "id": "f36ef963-579b-4130-883a-154b4881d730",
   "metadata": {},
   "outputs": [
    {
     "data": {
      "image/png": "[encoded data removed]",
      "text/plain": [
       "<Figure size 1000x600 with 1 Axes>"
      ]
     },
     "metadata": {},
     "output_type": "display_data"
    }
   ],
   "source": [
    "import matplotlib.pyplot as plt\n",
    "\n",
    "plt.figure(figsize=(10, 6))\n",
    "plt.scatter(y_test, y_pred, alpha=0.7, color='blue')\n",
    "plt.plot([y_test.min(), y_test.max()], [y_test.min(), y_test.max()], color='red', linestyle='--', linewidth=2)\n",
    "plt.title('Predicted vs. Actual Prices')\n",
    "plt.xlabel('Actual Prices')\n",
    "plt.ylabel('Predicted Prices')\n",
    "plt.show()"
   ]
  },
  {
   "cell_type": "markdown",
   "id": "2084faec-c908-447d-bfc4-7081c652abde",
   "metadata": {},
   "source": [
    "##### In General there are clusters near the diagonal red line indicating the model is accurate for these data points.\n",
    "##### But in the small instances of outliers (points far from the line) we might conclude that these are points where the model struggles."
   ]
  },
  {
   "cell_type": "code",
   "execution_count": null,
   "id": "0554213f-74d9-45d5-a951-8cce7e040083",
   "metadata": {},
   "outputs": [],
   "source": []
  }
 ],
 "metadata": {
  "kernelspec": {
   "display_name": "Python 3 (ipykernel)",
   "language": "python",
   "name": "python3"
  },
  "language_info": {
   "codemirror_mode": {
    "name": "ipython",
    "version": 3
   },
   "file_extension": ".py",
   "mimetype": "text/x-python",
   "name": "python",
   "nbconvert_exporter": "python",
   "pygments_lexer": "ipython3",
   "version": "3.11.7"
  }
 },
 "nbformat": 4,
 "nbformat_minor": 5
}
